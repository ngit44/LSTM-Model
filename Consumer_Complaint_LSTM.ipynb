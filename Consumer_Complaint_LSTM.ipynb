{
 "cells": [
  {
   "cell_type": "markdown",
   "id": "7a489e38",
   "metadata": {},
   "source": [
    "# Consumer Complaint Classification with LSTM\n",
    "This project uses real-time complaint data from the CFPB Consumer Complaints API. We build an LSTM model to predict the product type based on consumer complaint narratives.\n",
    "\n",
    "### Goals\n",
    "- Extract complaint narratives from the API\n",
    "- Clean and preprocess the text\n",
    "- Train an LSTM model to classify complaint types\n",
    "- Evaluate performance using a confusion matrix and classification report"
   ]
  },
  {
   "cell_type": "markdown",
   "id": "869d9415",
   "metadata": {},
   "source": [
    "## Step 1: Load Data from CFPB API"
   ]
  },
  {
   "cell_type": "code",
   "execution_count": 1,
   "id": "8b642b23",
   "metadata": {},
   "outputs": [
    {
     "data": {
      "text/html": [
       "<div>\n",
       "<style scoped>\n",
       "    .dataframe tbody tr th:only-of-type {\n",
       "        vertical-align: middle;\n",
       "    }\n",
       "\n",
       "    .dataframe tbody tr th {\n",
       "        vertical-align: top;\n",
       "    }\n",
       "\n",
       "    .dataframe thead th {\n",
       "        text-align: right;\n",
       "    }\n",
       "</style>\n",
       "<table border=\"1\" class=\"dataframe\">\n",
       "  <thead>\n",
       "    <tr style=\"text-align: right;\">\n",
       "      <th></th>\n",
       "      <th>product</th>\n",
       "      <th>complaint_what_happened</th>\n",
       "      <th>date_sent_to_company</th>\n",
       "      <th>issue</th>\n",
       "      <th>sub_product</th>\n",
       "      <th>zip_code</th>\n",
       "      <th>tags</th>\n",
       "      <th>has_narrative</th>\n",
       "      <th>complaint_id</th>\n",
       "      <th>timely</th>\n",
       "      <th>consumer_consent_provided</th>\n",
       "      <th>company_response</th>\n",
       "      <th>submitted_via</th>\n",
       "      <th>company</th>\n",
       "      <th>date_received</th>\n",
       "      <th>state</th>\n",
       "      <th>consumer_disputed</th>\n",
       "      <th>company_public_response</th>\n",
       "      <th>sub_issue</th>\n",
       "    </tr>\n",
       "  </thead>\n",
       "  <tbody>\n",
       "    <tr>\n",
       "      <th>0</th>\n",
       "      <td>Credit card</td>\n",
       "      <td>Chae bank called me about a fraudulent case ap...</td>\n",
       "      <td>2024-09-03T12:00:00-05:00</td>\n",
       "      <td>Getting a credit card</td>\n",
       "      <td>General-purpose credit card or charge card</td>\n",
       "      <td>01923</td>\n",
       "      <td>None</td>\n",
       "      <td>True</td>\n",
       "      <td>9999983</td>\n",
       "      <td>Yes</td>\n",
       "      <td>Consent provided</td>\n",
       "      <td>Closed with explanation</td>\n",
       "      <td>Web</td>\n",
       "      <td>JPMORGAN CHASE &amp; CO.</td>\n",
       "      <td>2024-09-03T12:00:00-05:00</td>\n",
       "      <td>MA</td>\n",
       "      <td>N/A</td>\n",
       "      <td>None</td>\n",
       "      <td>Card opened without my consent or knowledge</td>\n",
       "    </tr>\n",
       "    <tr>\n",
       "      <th>1</th>\n",
       "      <td>Credit reporting or other personal consumer re...</td>\n",
       "      <td>The inclusion of these unauthorized accounts a...</td>\n",
       "      <td>2024-09-03T12:00:00-05:00</td>\n",
       "      <td>Incorrect information on your report</td>\n",
       "      <td>Credit reporting</td>\n",
       "      <td>77064</td>\n",
       "      <td>None</td>\n",
       "      <td>True</td>\n",
       "      <td>9999982</td>\n",
       "      <td>Yes</td>\n",
       "      <td>Consent provided</td>\n",
       "      <td>Closed with explanation</td>\n",
       "      <td>Web</td>\n",
       "      <td>EQUIFAX, INC.</td>\n",
       "      <td>2024-09-03T12:00:00-05:00</td>\n",
       "      <td>TX</td>\n",
       "      <td>N/A</td>\n",
       "      <td>None</td>\n",
       "      <td>Account status incorrect</td>\n",
       "    </tr>\n",
       "    <tr>\n",
       "      <th>2</th>\n",
       "      <td>Credit reporting or other personal consumer re...</td>\n",
       "      <td>I respectfully seek your comprehension regardi...</td>\n",
       "      <td>2024-09-03T12:00:00-05:00</td>\n",
       "      <td>Incorrect information on your report</td>\n",
       "      <td>Credit reporting</td>\n",
       "      <td>19138</td>\n",
       "      <td>None</td>\n",
       "      <td>True</td>\n",
       "      <td>9999977</td>\n",
       "      <td>Yes</td>\n",
       "      <td>Consent provided</td>\n",
       "      <td>Closed with explanation</td>\n",
       "      <td>Web</td>\n",
       "      <td>Experian Information Solutions Inc.</td>\n",
       "      <td>2024-09-03T12:00:00-05:00</td>\n",
       "      <td>PA</td>\n",
       "      <td>N/A</td>\n",
       "      <td>Company has responded to the consumer and the ...</td>\n",
       "      <td>Account status incorrect</td>\n",
       "    </tr>\n",
       "    <tr>\n",
       "      <th>3</th>\n",
       "      <td>Debt collection</td>\n",
       "      <td>Upon reviewing my credit report, I identified ...</td>\n",
       "      <td>2024-09-03T12:00:00-05:00</td>\n",
       "      <td>Attempts to collect debt not owed</td>\n",
       "      <td>I do not know</td>\n",
       "      <td>29063</td>\n",
       "      <td>None</td>\n",
       "      <td>True</td>\n",
       "      <td>9999975</td>\n",
       "      <td>Yes</td>\n",
       "      <td>Consent provided</td>\n",
       "      <td>Closed with explanation</td>\n",
       "      <td>Web</td>\n",
       "      <td>EQUIFAX, INC.</td>\n",
       "      <td>2024-09-03T12:00:00-05:00</td>\n",
       "      <td>SC</td>\n",
       "      <td>N/A</td>\n",
       "      <td>None</td>\n",
       "      <td>Debt is not yours</td>\n",
       "    </tr>\n",
       "    <tr>\n",
       "      <th>4</th>\n",
       "      <td>Debt collection</td>\n",
       "      <td>sent letters to aargon agency asking for valid...</td>\n",
       "      <td>2024-09-09T12:00:00-05:00</td>\n",
       "      <td>Written notification about debt</td>\n",
       "      <td>Other debt</td>\n",
       "      <td>480XX</td>\n",
       "      <td>Servicemember</td>\n",
       "      <td>True</td>\n",
       "      <td>9999970</td>\n",
       "      <td>Yes</td>\n",
       "      <td>Consent provided</td>\n",
       "      <td>Closed with explanation</td>\n",
       "      <td>Web</td>\n",
       "      <td>Aargon Agency, Inc.</td>\n",
       "      <td>2024-09-03T12:00:00-05:00</td>\n",
       "      <td>MI</td>\n",
       "      <td>N/A</td>\n",
       "      <td>Company has responded to the consumer and the ...</td>\n",
       "      <td>Didn't receive notice of right to dispute</td>\n",
       "    </tr>\n",
       "  </tbody>\n",
       "</table>\n",
       "</div>"
      ],
      "text/plain": [
       "                                             product  \\\n",
       "0                                        Credit card   \n",
       "1  Credit reporting or other personal consumer re...   \n",
       "2  Credit reporting or other personal consumer re...   \n",
       "3                                    Debt collection   \n",
       "4                                    Debt collection   \n",
       "\n",
       "                             complaint_what_happened  \\\n",
       "0  Chae bank called me about a fraudulent case ap...   \n",
       "1  The inclusion of these unauthorized accounts a...   \n",
       "2  I respectfully seek your comprehension regardi...   \n",
       "3  Upon reviewing my credit report, I identified ...   \n",
       "4  sent letters to aargon agency asking for valid...   \n",
       "\n",
       "        date_sent_to_company                                 issue  \\\n",
       "0  2024-09-03T12:00:00-05:00                 Getting a credit card   \n",
       "1  2024-09-03T12:00:00-05:00  Incorrect information on your report   \n",
       "2  2024-09-03T12:00:00-05:00  Incorrect information on your report   \n",
       "3  2024-09-03T12:00:00-05:00     Attempts to collect debt not owed   \n",
       "4  2024-09-09T12:00:00-05:00       Written notification about debt   \n",
       "\n",
       "                                  sub_product zip_code           tags  \\\n",
       "0  General-purpose credit card or charge card    01923           None   \n",
       "1                            Credit reporting    77064           None   \n",
       "2                            Credit reporting    19138           None   \n",
       "3                               I do not know    29063           None   \n",
       "4                                  Other debt    480XX  Servicemember   \n",
       "\n",
       "   has_narrative complaint_id timely consumer_consent_provided  \\\n",
       "0           True      9999983    Yes          Consent provided   \n",
       "1           True      9999982    Yes          Consent provided   \n",
       "2           True      9999977    Yes          Consent provided   \n",
       "3           True      9999975    Yes          Consent provided   \n",
       "4           True      9999970    Yes          Consent provided   \n",
       "\n",
       "          company_response submitted_via                              company  \\\n",
       "0  Closed with explanation           Web                 JPMORGAN CHASE & CO.   \n",
       "1  Closed with explanation           Web                        EQUIFAX, INC.   \n",
       "2  Closed with explanation           Web  Experian Information Solutions Inc.   \n",
       "3  Closed with explanation           Web                        EQUIFAX, INC.   \n",
       "4  Closed with explanation           Web                  Aargon Agency, Inc.   \n",
       "\n",
       "               date_received state consumer_disputed  \\\n",
       "0  2024-09-03T12:00:00-05:00    MA               N/A   \n",
       "1  2024-09-03T12:00:00-05:00    TX               N/A   \n",
       "2  2024-09-03T12:00:00-05:00    PA               N/A   \n",
       "3  2024-09-03T12:00:00-05:00    SC               N/A   \n",
       "4  2024-09-03T12:00:00-05:00    MI               N/A   \n",
       "\n",
       "                             company_public_response  \\\n",
       "0                                               None   \n",
       "1                                               None   \n",
       "2  Company has responded to the consumer and the ...   \n",
       "3                                               None   \n",
       "4  Company has responded to the consumer and the ...   \n",
       "\n",
       "                                     sub_issue  \n",
       "0  Card opened without my consent or knowledge  \n",
       "1                     Account status incorrect  \n",
       "2                     Account status incorrect  \n",
       "3                            Debt is not yours  \n",
       "4    Didn't receive notice of right to dispute  "
      ]
     },
     "execution_count": 1,
     "metadata": {},
     "output_type": "execute_result"
    }
   ],
   "source": [
    "import requests\n",
    "import pandas as pd\n",
    "import json\n",
    "\n",
    "url = \"https://www.consumerfinance.gov/data-research/consumer-complaints/search/api/v1/\"\n",
    "params = {\n",
    "    \"size\": 100,\n",
    "    \"no_aggs\": \"true\",\n",
    "    \"searchTerm\": \"\",\n",
    "    \"has_narrative\": \"true\"\n",
    "}\n",
    "response = requests.get(url, params=params)\n",
    "data = response.json()\n",
    "records = [doc[\"_source\"] for doc in data[\"hits\"][\"hits\"]]\n",
    "df = pd.DataFrame(records)\n",
    "df = df[df[\"complaint_what_happened\"].str.strip().astype(bool)]\n",
    "df.reset_index(drop=True, inplace=True)\n",
    "df.head()"
   ]
  },
  {
   "cell_type": "markdown",
   "id": "0228a506",
   "metadata": {},
   "source": [
    "## Step 2: Clean and Preprocess Text"
   ]
  },
  {
   "cell_type": "code",
   "execution_count": 2,
   "id": "47f76fd4",
   "metadata": {},
   "outputs": [
    {
     "name": "stderr",
     "output_type": "stream",
     "text": [
      "[nltk_data] Downloading package stopwords to\n",
      "[nltk_data]     C:\\Users\\nyouseflavi\\AppData\\Roaming\\nltk_data...\n",
      "[nltk_data]   Package stopwords is already up-to-date!\n"
     ]
    },
    {
     "data": {
      "text/html": [
       "<div>\n",
       "<style scoped>\n",
       "    .dataframe tbody tr th:only-of-type {\n",
       "        vertical-align: middle;\n",
       "    }\n",
       "\n",
       "    .dataframe tbody tr th {\n",
       "        vertical-align: top;\n",
       "    }\n",
       "\n",
       "    .dataframe thead th {\n",
       "        text-align: right;\n",
       "    }\n",
       "</style>\n",
       "<table border=\"1\" class=\"dataframe\">\n",
       "  <thead>\n",
       "    <tr style=\"text-align: right;\">\n",
       "      <th></th>\n",
       "      <th>product</th>\n",
       "      <th>clean_text</th>\n",
       "    </tr>\n",
       "  </thead>\n",
       "  <tbody>\n",
       "    <tr>\n",
       "      <th>0</th>\n",
       "      <td>Credit card</td>\n",
       "      <td>chae bank called fraudulent case application g...</td>\n",
       "    </tr>\n",
       "    <tr>\n",
       "      <th>1</th>\n",
       "      <td>Credit reporting or other personal consumer re...</td>\n",
       "      <td>inclusion unauthorized accounts inquiries caus...</td>\n",
       "    </tr>\n",
       "    <tr>\n",
       "      <th>2</th>\n",
       "      <td>Credit reporting or other personal consumer re...</td>\n",
       "      <td>respectfully seek comprehension regarding late...</td>\n",
       "    </tr>\n",
       "    <tr>\n",
       "      <th>3</th>\n",
       "      <td>Debt collection</td>\n",
       "      <td>upon reviewing credit report identified multip...</td>\n",
       "    </tr>\n",
       "    <tr>\n",
       "      <th>4</th>\n",
       "      <td>Debt collection</td>\n",
       "      <td>sent letters aargon agency asking validation d...</td>\n",
       "    </tr>\n",
       "  </tbody>\n",
       "</table>\n",
       "</div>"
      ],
      "text/plain": [
       "                                             product  \\\n",
       "0                                        Credit card   \n",
       "1  Credit reporting or other personal consumer re...   \n",
       "2  Credit reporting or other personal consumer re...   \n",
       "3                                    Debt collection   \n",
       "4                                    Debt collection   \n",
       "\n",
       "                                          clean_text  \n",
       "0  chae bank called fraudulent case application g...  \n",
       "1  inclusion unauthorized accounts inquiries caus...  \n",
       "2  respectfully seek comprehension regarding late...  \n",
       "3  upon reviewing credit report identified multip...  \n",
       "4  sent letters aargon agency asking validation d...  "
      ]
     },
     "execution_count": 2,
     "metadata": {},
     "output_type": "execute_result"
    }
   ],
   "source": [
    "import re\n",
    "import nltk\n",
    "from nltk.corpus import stopwords\n",
    "\n",
    "nltk.download('stopwords')\n",
    "stop_words = set(stopwords.words('english'))\n",
    "\n",
    "def clean_text(text):\n",
    "    text = text.lower()\n",
    "    text = re.sub(r\"[^a-z\\s]\", \"\", text)\n",
    "    words = text.split()\n",
    "    return \" \".join([w for w in words if w not in stop_words])\n",
    "\n",
    "df[\"clean_text\"] = df[\"complaint_what_happened\"].apply(clean_text)\n",
    "df[[\"product\", \"clean_text\"]].head()"
   ]
  },
  {
   "cell_type": "markdown",
   "id": "958d1fdb",
   "metadata": {},
   "source": [
    "##  Step 3: Tokenize Text and Encode Labels"
   ]
  },
  {
   "cell_type": "code",
   "execution_count": 3,
   "id": "0c021016",
   "metadata": {},
   "outputs": [],
   "source": [
    "from sklearn.preprocessing import LabelEncoder\n",
    "from tensorflow.keras.preprocessing.text import Tokenizer\n",
    "from tensorflow.keras.preprocessing.sequence import pad_sequences\n",
    "from sklearn.model_selection import train_test_split\n",
    "\n",
    "label_encoder = LabelEncoder()\n",
    "y = label_encoder.fit_transform(df[\"product\"])\n",
    "\n",
    "tokenizer = Tokenizer(num_words=10000, oov_token=\"<OOV>\")\n",
    "tokenizer.fit_on_texts(df[\"clean_text\"])\n",
    "sequences = tokenizer.texts_to_sequences(df[\"clean_text\"])\n",
    "X = pad_sequences(sequences, maxlen=200)\n",
    "\n",
    "X_train, X_test, y_train, y_test = train_test_split(X, y, test_size=0.2, random_state=42)"
   ]
  },
  {
   "cell_type": "markdown",
   "id": "ea25dafd",
   "metadata": {},
   "source": [
    "## Step 4: Train LSTM Model"
   ]
  },
  {
   "cell_type": "code",
   "execution_count": 4,
   "id": "26c2c4e5",
   "metadata": {},
   "outputs": [
    {
     "name": "stderr",
     "output_type": "stream",
     "text": [
      "C:\\Users\\nyouseflavi\\AppData\\Local\\anaconda3\\Lib\\site-packages\\keras\\src\\layers\\core\\embedding.py:97: UserWarning: Argument `input_length` is deprecated. Just remove it.\n",
      "  warnings.warn(\n"
     ]
    },
    {
     "data": {
      "text/html": [
       "<pre style=\"white-space:pre;overflow-x:auto;line-height:normal;font-family:Menlo,'DejaVu Sans Mono',consolas,'Courier New',monospace\"><span style=\"font-weight: bold\">Model: \"sequential\"</span>\n",
       "</pre>\n"
      ],
      "text/plain": [
       "\u001b[1mModel: \"sequential\"\u001b[0m\n"
      ]
     },
     "metadata": {},
     "output_type": "display_data"
    },
    {
     "data": {
      "text/html": [
       "<pre style=\"white-space:pre;overflow-x:auto;line-height:normal;font-family:Menlo,'DejaVu Sans Mono',consolas,'Courier New',monospace\">┏━━━━━━━━━━━━━━━━━━━━━━━━━━━━━━━━━┳━━━━━━━━━━━━━━━━━━━━━━━━┳━━━━━━━━━━━━━━━┓\n",
       "┃<span style=\"font-weight: bold\"> Layer (type)                    </span>┃<span style=\"font-weight: bold\"> Output Shape           </span>┃<span style=\"font-weight: bold\">       Param # </span>┃\n",
       "┡━━━━━━━━━━━━━━━━━━━━━━━━━━━━━━━━━╇━━━━━━━━━━━━━━━━━━━━━━━━╇━━━━━━━━━━━━━━━┩\n",
       "│ embedding (<span style=\"color: #0087ff; text-decoration-color: #0087ff\">Embedding</span>)           │ ?                      │   <span style=\"color: #00af00; text-decoration-color: #00af00\">0</span> (unbuilt) │\n",
       "├─────────────────────────────────┼────────────────────────┼───────────────┤\n",
       "│ lstm (<span style=\"color: #0087ff; text-decoration-color: #0087ff\">LSTM</span>)                     │ ?                      │   <span style=\"color: #00af00; text-decoration-color: #00af00\">0</span> (unbuilt) │\n",
       "├─────────────────────────────────┼────────────────────────┼───────────────┤\n",
       "│ dense (<span style=\"color: #0087ff; text-decoration-color: #0087ff\">Dense</span>)                   │ ?                      │   <span style=\"color: #00af00; text-decoration-color: #00af00\">0</span> (unbuilt) │\n",
       "└─────────────────────────────────┴────────────────────────┴───────────────┘\n",
       "</pre>\n"
      ],
      "text/plain": [
       "┏━━━━━━━━━━━━━━━━━━━━━━━━━━━━━━━━━┳━━━━━━━━━━━━━━━━━━━━━━━━┳━━━━━━━━━━━━━━━┓\n",
       "┃\u001b[1m \u001b[0m\u001b[1mLayer (type)                   \u001b[0m\u001b[1m \u001b[0m┃\u001b[1m \u001b[0m\u001b[1mOutput Shape          \u001b[0m\u001b[1m \u001b[0m┃\u001b[1m \u001b[0m\u001b[1m      Param #\u001b[0m\u001b[1m \u001b[0m┃\n",
       "┡━━━━━━━━━━━━━━━━━━━━━━━━━━━━━━━━━╇━━━━━━━━━━━━━━━━━━━━━━━━╇━━━━━━━━━━━━━━━┩\n",
       "│ embedding (\u001b[38;5;33mEmbedding\u001b[0m)           │ ?                      │   \u001b[38;5;34m0\u001b[0m (unbuilt) │\n",
       "├─────────────────────────────────┼────────────────────────┼───────────────┤\n",
       "│ lstm (\u001b[38;5;33mLSTM\u001b[0m)                     │ ?                      │   \u001b[38;5;34m0\u001b[0m (unbuilt) │\n",
       "├─────────────────────────────────┼────────────────────────┼───────────────┤\n",
       "│ dense (\u001b[38;5;33mDense\u001b[0m)                   │ ?                      │   \u001b[38;5;34m0\u001b[0m (unbuilt) │\n",
       "└─────────────────────────────────┴────────────────────────┴───────────────┘\n"
      ]
     },
     "metadata": {},
     "output_type": "display_data"
    },
    {
     "data": {
      "text/html": [
       "<pre style=\"white-space:pre;overflow-x:auto;line-height:normal;font-family:Menlo,'DejaVu Sans Mono',consolas,'Courier New',monospace\"><span style=\"font-weight: bold\"> Total params: </span><span style=\"color: #00af00; text-decoration-color: #00af00\">0</span> (0.00 B)\n",
       "</pre>\n"
      ],
      "text/plain": [
       "\u001b[1m Total params: \u001b[0m\u001b[38;5;34m0\u001b[0m (0.00 B)\n"
      ]
     },
     "metadata": {},
     "output_type": "display_data"
    },
    {
     "data": {
      "text/html": [
       "<pre style=\"white-space:pre;overflow-x:auto;line-height:normal;font-family:Menlo,'DejaVu Sans Mono',consolas,'Courier New',monospace\"><span style=\"font-weight: bold\"> Trainable params: </span><span style=\"color: #00af00; text-decoration-color: #00af00\">0</span> (0.00 B)\n",
       "</pre>\n"
      ],
      "text/plain": [
       "\u001b[1m Trainable params: \u001b[0m\u001b[38;5;34m0\u001b[0m (0.00 B)\n"
      ]
     },
     "metadata": {},
     "output_type": "display_data"
    },
    {
     "data": {
      "text/html": [
       "<pre style=\"white-space:pre;overflow-x:auto;line-height:normal;font-family:Menlo,'DejaVu Sans Mono',consolas,'Courier New',monospace\"><span style=\"font-weight: bold\"> Non-trainable params: </span><span style=\"color: #00af00; text-decoration-color: #00af00\">0</span> (0.00 B)\n",
       "</pre>\n"
      ],
      "text/plain": [
       "\u001b[1m Non-trainable params: \u001b[0m\u001b[38;5;34m0\u001b[0m (0.00 B)\n"
      ]
     },
     "metadata": {},
     "output_type": "display_data"
    },
    {
     "name": "stdout",
     "output_type": "stream",
     "text": [
      "Epoch 1/5\n",
      "\u001b[1m3/3\u001b[0m \u001b[32m━━━━━━━━━━━━━━━━━━━━\u001b[0m\u001b[37m\u001b[0m \u001b[1m7s\u001b[0m 650ms/step - accuracy: 0.4180 - loss: 1.3747 - val_accuracy: 0.8500 - val_loss: 1.3211\n",
      "Epoch 2/5\n",
      "\u001b[1m3/3\u001b[0m \u001b[32m━━━━━━━━━━━━━━━━━━━━\u001b[0m\u001b[37m\u001b[0m \u001b[1m2s\u001b[0m 264ms/step - accuracy: 0.9539 - loss: 1.2880 - val_accuracy: 0.8500 - val_loss: 1.2317\n",
      "Epoch 3/5\n",
      "\u001b[1m3/3\u001b[0m \u001b[32m━━━━━━━━━━━━━━━━━━━━\u001b[0m\u001b[37m\u001b[0m \u001b[1m1s\u001b[0m 271ms/step - accuracy: 0.9461 - loss: 1.1637 - val_accuracy: 0.8500 - val_loss: 1.0843\n",
      "Epoch 4/5\n",
      "\u001b[1m3/3\u001b[0m \u001b[32m━━━━━━━━━━━━━━━━━━━━\u001b[0m\u001b[37m\u001b[0m \u001b[1m1s\u001b[0m 311ms/step - accuracy: 0.9617 - loss: 0.9441 - val_accuracy: 0.8500 - val_loss: 0.8285\n",
      "Epoch 5/5\n",
      "\u001b[1m3/3\u001b[0m \u001b[32m━━━━━━━━━━━━━━━━━━━━\u001b[0m\u001b[37m\u001b[0m \u001b[1m1s\u001b[0m 247ms/step - accuracy: 0.9461 - loss: 0.5839 - val_accuracy: 0.8500 - val_loss: 0.5499\n"
     ]
    },
    {
     "data": {
      "text/plain": [
       "<keras.src.callbacks.history.History at 0x1eb265cf1d0>"
      ]
     },
     "execution_count": 4,
     "metadata": {},
     "output_type": "execute_result"
    }
   ],
   "source": [
    "from tensorflow.keras.models import Sequential\n",
    "from tensorflow.keras.layers import Embedding, LSTM, Dense\n",
    "\n",
    "model = Sequential()\n",
    "model.add(Embedding(input_dim=10000, output_dim=128, input_length=200))\n",
    "model.add(LSTM(64))\n",
    "model.add(Dense(len(label_encoder.classes_), activation='softmax'))\n",
    "\n",
    "model.compile(loss='sparse_categorical_crossentropy', optimizer='adam', metrics=['accuracy'])\n",
    "model.summary()\n",
    "model.fit(X_train, y_train, epochs=5, batch_size=32, validation_data=(X_test, y_test))"
   ]
  },
  {
   "cell_type": "markdown",
   "id": "05d1cb8c",
   "metadata": {},
   "source": [
    "## Step 5: Evaluate Model with Confusion Matrix"
   ]
  },
  {
   "cell_type": "code",
   "execution_count": 5,
   "id": "c5f75f8d",
   "metadata": {},
   "outputs": [
    {
     "name": "stdout",
     "output_type": "stream",
     "text": [
      "\u001b[1m1/1\u001b[0m \u001b[32m━━━━━━━━━━━━━━━━━━━━\u001b[0m\u001b[37m\u001b[0m \u001b[1m0s\u001b[0m 447ms/step\n"
     ]
    },
    {
     "data": {
      "image/png": "[encoded data removed]",
      "text/plain": [
       "<Figure size 1000x800 with 2 Axes>"
      ]
     },
     "metadata": {},
     "output_type": "display_data"
    },
    {
     "name": "stdout",
     "output_type": "stream",
     "text": [
      "                                                     precision    recall  f1-score   support\n",
      "\n",
      "                                        Credit card       0.00      0.00      0.00         1\n",
      "Credit reporting or other personal consumer reports       0.85      1.00      0.92        17\n",
      "                                    Debt collection       0.00      0.00      0.00         2\n",
      "                                           Mortgage       0.00      0.00      0.00         0\n",
      "\n",
      "                                           accuracy                           0.85        20\n",
      "                                          macro avg       0.21      0.25      0.23        20\n",
      "                                       weighted avg       0.72      0.85      0.78        20\n",
      "\n"
     ]
    }
   ],
   "source": [
    "import numpy as np\n",
    "from sklearn.metrics import confusion_matrix, classification_report\n",
    "import seaborn as sns\n",
    "import matplotlib.pyplot as plt\n",
    "\n",
    "y_pred_probs = model.predict(X_test)\n",
    "y_pred = np.argmax(y_pred_probs, axis=1)\n",
    "\n",
    "labels = list(range(len(label_encoder.classes_)))\n",
    "names = label_encoder.classes_\n",
    "cm = confusion_matrix(y_test, y_pred, labels=labels)\n",
    "\n",
    "plt.figure(figsize=(10, 8))\n",
    "sns.heatmap(cm, annot=True, fmt='d', cmap='Blues', xticklabels=names, yticklabels=names)\n",
    "plt.xlabel('Predicted')\n",
    "plt.ylabel('True')\n",
    "plt.title('Confusion Matrix')\n",
    "plt.xticks(rotation=45)\n",
    "plt.tight_layout()\n",
    "plt.show()\n",
    "\n",
    "print(classification_report(y_test, y_pred, labels=labels, target_names=names, zero_division=0))"
   ]
  },
  {
   "cell_type": "markdown",
   "id": "cb3a96b8",
   "metadata": {},
   "source": [
    "##  Step 6: Make Predictions on New Complaints"
   ]
  },
  {
   "cell_type": "code",
   "execution_count": 6,
   "id": "b8fd42a1",
   "metadata": {},
   "outputs": [
    {
     "name": "stdout",
     "output_type": "stream",
     "text": [
      "\u001b[1m1/1\u001b[0m \u001b[32m━━━━━━━━━━━━━━━━━━━━\u001b[0m\u001b[37m\u001b[0m \u001b[1m0s\u001b[0m 434ms/step\n"
     ]
    },
    {
     "data": {
      "text/plain": [
       "array(['Credit reporting or other personal consumer reports'],\n",
       "      dtype=object)"
      ]
     },
     "execution_count": 6,
     "metadata": {},
     "output_type": "execute_result"
    }
   ],
   "source": [
    "def predict_product(text):\n",
    "    cleaned = clean_text(text)\n",
    "    seq = tokenizer.texts_to_sequences([cleaned])\n",
    "    padded = pad_sequences(seq, maxlen=200)\n",
    "    pred = model.predict(padded)\n",
    "    return label_encoder.inverse_transform([np.argmax(pred)])\n",
    "\n",
    "# Test example\n",
    "sample = \"I was charged late fees for no reason even though I paid on time.\"\n",
    "predict_product(sample)"
   ]
  },
  {
   "cell_type": "markdown",
   "id": "d7b283da",
   "metadata": {},
   "source": [
    "## Conclusion\n",
    "In this project, we successfully:\n",
    "- Pulled real consumer complaints from a public API\n",
    "- Cleaned and tokenized complaint narratives\n",
    "- Trained a deep learning model (LSTM) to classify product types\n",
    "- Evaluated model accuracy and interpreted results with a confusion matrix\n",
    "\n",
    "This project is a great example of using real-world NLP and deep learning on public datasets."
   ]
  },
  {
   "cell_type": "code",
   "execution_count": null,
   "id": "8247bfd5-9586-49c8-bafd-ca2e35eedfd5",
   "metadata": {},
   "outputs": [],
   "source": []
  }
 ],
 "metadata": {
  "kernelspec": {
   "display_name": "Python 3 (ipykernel)",
   "language": "python",
   "name": "python3"
  },
  "language_info": {
   "codemirror_mode": {
    "name": "ipython",
    "version": 3
   },
   "file_extension": ".py",
   "mimetype": "text/x-python",
   "name": "python",
   "nbconvert_exporter": "python",
   "pygments_lexer": "ipython3",
   "version": "3.12.7"
  }
 },
 "nbformat": 4,
 "nbformat_minor": 5
}
